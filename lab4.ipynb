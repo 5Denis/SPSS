{
 "cells": [
  {
   "cell_type": "markdown",
   "metadata": {},
   "source": [
    "<h1>В данной работе осуществлена проверка гипотезы распределения. Данный код является альтернативой некоторой части функционала IBM SPSS Statistics. "
   ]
  },
  {
   "cell_type": "code",
   "execution_count": 2,
   "metadata": {},
   "outputs": [
    {
     "name": "stdout",
     "output_type": "stream",
     "text": [
      "Содержимое файла:\n",
      "\n",
      "    МояПерем\n",
      "0       1.0\n",
      "1       2.0\n",
      "2       3.0\n",
      "3       4.0\n",
      "4       5.0\n",
      "\n",
      "Размер исследуемой выборки: 5\n",
      "Нормальные параметры:\n",
      "Среднее: 3.0 \n",
      "Стандартное отклонение: 1.4142135623730951 \n",
      "\n",
      "Нормальное:\n",
      "statistic=0.8413447460685429\n",
      "pvalue=0.00020104917170277151\n",
      "\n",
      "Коши:\n",
      "statistic=0.75\n",
      "pvalue=0.002\n",
      "\n",
      "Экспоненциальное:\n",
      "statistic=0.6646647167633872\n",
      "pvalue=0.010710295336241613\n",
      "\n"
     ]
    }
   ],
   "source": [
    "import numpy as np\n",
    "import pandas as pd\n",
    "import pyreadstat as prs\n",
    "import matplotlib.pyplot as plt\n",
    "from scipy.stats import kstest\n",
    "\n",
    "names = ['norm', 'cauchy', 'expon']\n",
    "\n",
    "\n",
    "#Создание sav файла\n",
    "df = pd.DataFrame([[1],[2],[3],[4],[5]], columns=[\"МояПерем\"])\n",
    "column_labels = [\"Variable 1\"]\n",
    "prs.write_sav(df, \"C:/Users/79535/Desktop/СППР/pyt/4/myFile.sav\", file_label=\"test\", column_labels=column_labels)\n",
    "\n",
    "#Чтение sav файла \n",
    "file1, meta = prs.read_sav('C:/Users/79535/Desktop/СППР/pyt/4/myFile.sav')\n",
    "file1 = pd.DataFrame(file1)\n",
    "\n",
    "\n",
    "print('Содержимое файла:\\n\\n', file1)\n",
    "print('\\nРазмер исследуемой выборки:',len(file1.index))\n",
    "print('Нормальные параметры:\\nСреднее:', np.float64(np.mean(file1)), '\\nСтандартное отклонение:', np.float64(np.std(file1)),'\\n')\n",
    "\n",
    "\n",
    "for name in names:\n",
    "    statistic, pvalue = kstest(file1.iloc[:,0], name)\n",
    "    if name == 'norm':\n",
    "        print('Нормальное:')\n",
    "    elif name == 'cauchy':\n",
    "        print('Коши:')\n",
    "    elif name == 'expon':\n",
    "        print('Экспоненциальное:')        \n",
    "            \n",
    "    print(f'statistic={statistic}\\npvalue={pvalue}\\n')\n"
   ]
  }
 ],
 "metadata": {
  "kernelspec": {
   "display_name": "Python 3",
   "language": "python",
   "name": "python3"
  },
  "language_info": {
   "codemirror_mode": {
    "name": "ipython",
    "version": 3
   },
   "file_extension": ".py",
   "mimetype": "text/x-python",
   "name": "python",
   "nbconvert_exporter": "python",
   "pygments_lexer": "ipython3",
   "version": "3.9.0"
  }
 },
 "nbformat": 4,
 "nbformat_minor": 4
}

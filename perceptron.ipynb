{
 "cells": [
  {
   "cell_type": "markdown",
   "metadata": {},
   "source": [
    "<h1>Данная нейросеть тренируется через обратное распространение (backpropagation), пытается использовать входные данные для предсказания данных на выходе."
   ]
  },
  {
   "cell_type": "markdown",
   "metadata": {},
   "source": [
    "<h4>Посколько 1 элемент входных данных коррелирует на 100% с данными на выходе, значит он и будет являться правильным ответом."
   ]
  },
  {
   "cell_type": "code",
   "execution_count": 21,
   "metadata": {},
   "outputs": [
    {
     "name": "stdout",
     "output_type": "stream",
     "text": [
      "Случайные инициализирующие веса:\n",
      "[[ 0.34093502]\n",
      " [-0.1653904 ]\n",
      " [ 0.11737966]] \n",
      "\n",
      "Веса после обучения:\n",
      "[[10.38038766]\n",
      " [-0.20676205]\n",
      " [-4.98430187]] \n",
      "\n",
      "Результат после обучения:\n",
      "[[0.0067982 ]\n",
      " [0.994455  ]\n",
      " [0.99548606]\n",
      " [0.00553541]] \n",
      "\n",
      "Тест 1:\n",
      "[0.99996184]\n",
      "Тест 2:\n",
      "[0.44849285]\n",
      "Тест 3:\n",
      "[0.99445514]\n",
      "Тест 4:\n",
      "[0.00679803]\n"
     ]
    }
   ],
   "source": [
    "import numpy as np\n",
    "\n",
    "def sigmoid(x):\n",
    "    return 1/(1+np.exp(-x))\n",
    "\n",
    "\n",
    "training_inputs = np.array([[0,0,1], [1,1,1], [1,0,1],[0,1,1]]) #Тут хранятся входные тренировочные данные\n",
    "training_outputs = np.array([[0,1,1,0]]).T #Тут хранятся правильные ответы\n",
    "\n",
    "\n",
    "synaptic_weights=2*np.random.random((3,1)) - 1\n",
    "\n",
    "print(\"Случайные инициализирующие веса:\")\n",
    "print(synaptic_weights, '\\n')\n",
    "\n",
    "#Метод обратного распространения\n",
    "for i in range(20000):\n",
    "    input_layer = training_inputs\n",
    "    outputs = sigmoid(np.dot(input_layer, synaptic_weights) )\n",
    "    \n",
    "    err = training_outputs - outputs\n",
    "    adjustments = np.dot(input_layer.T, err * (outputs * (1 - outputs)) )\n",
    "    \n",
    "    synaptic_weights += adjustments\n",
    "    \n",
    "print(\"Веса после обучения:\")\n",
    "print(synaptic_weights, '\\n')\n",
    "\n",
    "print(\"Результат после обучения:\")\n",
    "print(outputs, '\\n')\n",
    "\n",
    "#На данном этапе мы проведём несколько тестов\n",
    "new_inputs = np.array([1,1,0])\n",
    "output = sigmoid(np.dot(new_inputs, synaptic_weights))\n",
    "\n",
    "print('Тест 1:')\n",
    "print(output)\n",
    "\n",
    "new_inputs = np.array([0,1,0])\n",
    "output = sigmoid(np.dot(new_inputs, synaptic_weights))\n",
    "\n",
    "print('Тест 2:')\n",
    "print(output)\n",
    "\n",
    "new_inputs = np.array([1,1,1])\n",
    "output = sigmoid(np.dot(new_inputs, synaptic_weights))\n",
    "\n",
    "print('Тест 3:')\n",
    "print(output)\n",
    "\n",
    "new_inputs = np.array([0,0,1])\n",
    "output = sigmoid(np.dot(new_inputs, synaptic_weights))\n",
    "\n",
    "print('Тест 4:')\n",
    "print(output)"
   ]
  },
  {
   "cell_type": "markdown",
   "metadata": {},
   "source": [
    "Как мы можем заметить: программа в каждом из результатов выдаёт правильный ответ, а значит алгоритм построен верно."
   ]
  }
 ],
 "metadata": {
  "kernelspec": {
   "display_name": "Python 3",
   "language": "python",
   "name": "python3"
  },
  "language_info": {
   "codemirror_mode": {
    "name": "ipython",
    "version": 3
   },
   "file_extension": ".py",
   "mimetype": "text/x-python",
   "name": "python",
   "nbconvert_exporter": "python",
   "pygments_lexer": "ipython3",
   "version": "3.9.0"
  }
 },
 "nbformat": 4,
 "nbformat_minor": 4
}

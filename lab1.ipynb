{
 "cells": [
  {
   "cell_type": "markdown",
   "metadata": {},
   "source": [
    "<h1>В данной программе реализованы: работа с данными, вычисление определённых переменных, анализ данных и создание гистограммы."
   ]
  },
  {
   "cell_type": "code",
   "execution_count": 2,
   "metadata": {},
   "outputs": [
    {
     "data": {
      "image/png": "[encoded data removed]",
      "text/plain": [
       "<Figure size 432x288 with 1 Axes>"
      ]
     },
     "metadata": {
      "needs_background": "light"
     },
     "output_type": "display_data"
    },
    {
     "name": "stdout",
     "output_type": "stream",
     "text": [
      "Массив имеет вид: \n",
      " [14.95858771 23.95474478 30.91980132 17.97325796 23.27359184  9.02053172\n",
      "  7.64524335 18.01620371 -0.51590589 16.49428132 15.68979427  2.67203242\n",
      " 31.26379234  9.52433944 20.55799699 10.21575564 12.11997881 20.54917698\n",
      " 19.72174249  7.06234052 20.59710671 20.0734883   7.67573972  6.35359715\n",
      " 13.45310568 10.5811503  13.84179832 23.19879834 22.91176663  9.43472797\n",
      " 10.84650402  8.79607823 15.33208088 12.08083622 17.15490999 13.31001953\n",
      "  9.31008223  6.8133151  16.59610504 24.85738779 20.06559651 28.67400009\n",
      " 11.27218349  4.8654104  14.35160721 10.43701803  3.63746246 15.23688232\n",
      " 19.00872459 -3.60135715] \n",
      "\n",
      "Минимальное значение: -5.113338393631523 \n",
      "Максимальное значение: 27.411100181296874 \n",
      "Среднее значение 15.334804156388586 \n",
      "Среднее отклонение: 6.45571737954219 \n",
      "Дисперсия: 41.67628688452307\n"
     ]
    }
   ],
   "source": [
    "import numpy as np\n",
    "import matplotlib.pyplot as plt\n",
    "import pandas as pd\n",
    "\n",
    "#Создание гистограммы\n",
    "a = np.array(np.random.normal(15,8,50))\n",
    "hist = np.histogram(a)\n",
    "n, bin, patches = plt.hist(a, bins=10)\n",
    "plt.show()\n",
    "\n",
    "print ('Массив имеет вид:','\\n',np.array(np.random.normal(15,8,50)),\n",
    "       '\\n\\nМинимальное значение:', np.amin(a), '\\nМаксимальное значение:',\n",
    "       np.amax(a),'\\nСреднее значение', np.nanmean(a),'\\nСреднее отклонение:',\n",
    "       np.std(a),'\\nДисперсия:', np.var(a))"
   ]
  }
 ],
 "metadata": {
  "kernelspec": {
   "display_name": "Python 3",
   "language": "python",
   "name": "python3"
  },
  "language_info": {
   "codemirror_mode": {
    "name": "ipython",
    "version": 3
   },
   "file_extension": ".py",
   "mimetype": "text/x-python",
   "name": "python",
   "nbconvert_exporter": "python",
   "pygments_lexer": "ipython3",
   "version": "3.9.0"
  }
 },
 "nbformat": 4,
 "nbformat_minor": 4
}
